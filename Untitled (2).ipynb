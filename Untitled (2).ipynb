{
 "cells": [
  {
   "cell_type": "code",
   "execution_count": null,
   "id": "caaddaa3-8a55-4e7d-a39f-fc2d8c6d0d18",
   "metadata": {},
   "outputs": [],
   "source": [
    "1. True and False, using capital T and F, with the rest of the word in\n",
    "lowercase"
   ]
  },
  {
   "cell_type": "code",
   "execution_count": null,
   "id": "c63898d2-cc2a-4171-8d06-9e3e4846d674",
   "metadata": {},
   "outputs": [],
   "source": [
    "2. and, or, and not"
   ]
  },
  {
   "cell_type": "code",
   "execution_count": null,
   "id": "66084103-6247-440f-a38e-a07106206fb9",
   "metadata": {},
   "outputs": [],
   "source": [
    "3. True and True is True.\n",
    "True and False is False.\n",
    "False and True is False.\n",
    "False and False is False.\n",
    "True or True is True.\n",
    "True or False is True.\n",
    "False or True is True.\n",
    "False or False is False.\n",
    "not True is False.\n",
    "not False is True."
   ]
  },
  {
   "cell_type": "code",
   "execution_count": null,
   "id": "2f4b29da-23d1-4e1b-8548-b139422fdcd2",
   "metadata": {},
   "outputs": [],
   "source": [
    "4. False\n",
    "False\n",
    "True\n",
    "False\n",
    "False\n",
    "True"
   ]
  },
  {
   "cell_type": "code",
   "execution_count": null,
   "id": "db82faa1-e5f3-47bf-9600-3fa1babe45c5",
   "metadata": {},
   "outputs": [],
   "source": [
    "5. ==, !=, <, >, <=, and >="
   ]
  },
  {
   "cell_type": "code",
   "execution_count": null,
   "id": "d375e302-826a-4f06-ad87-6eaa2f933cc9",
   "metadata": {},
   "outputs": [],
   "source": [
    "6. == is the equal to operator that compares two values and evaluates to a\n",
    "Boolean, while = is the assignment operator that stores a value in a variable."
   ]
  },
  {
   "cell_type": "code",
   "execution_count": 13,
   "id": "8604e115-8d54-44bf-bb41-06ecd71b6ad7",
   "metadata": {},
   "outputs": [
    {
     "name": "stdout",
     "output_type": "stream",
     "text": [
      "eggs\n",
      "bacon\n",
      "spam\n"
     ]
    }
   ],
   "source": [
    "#7. The three blocks are everything inside the if statement and the lines\n",
    "#print('bacon') and print('ham').\n",
    "print('eggs')\n",
    "spam = 10\n",
    "if spam > 5:\n",
    "   print('bacon')\n",
    "else:\n",
    "   print('ham')\n",
    "print('spam')"
   ]
  },
  {
   "cell_type": "code",
   "execution_count": 14,
   "id": "f3de1af5-1b9f-4755-ae4d-4ea47edb3cf7",
   "metadata": {},
   "outputs": [
    {
     "name": "stdout",
     "output_type": "stream",
     "text": [
      "Greetings!\n"
     ]
    }
   ],
   "source": [
    "#8.\n",
    "if spam == 1:\n",
    " print('Hello')\n",
    "elif spam == 2:\n",
    " print('Howdy')\n",
    "else:\n",
    " print('Greetings!')"
   ]
  },
  {
   "cell_type": "code",
   "execution_count": null,
   "id": "b5c08a63-2199-49ac-9788-641a541b5b64",
   "metadata": {},
   "outputs": [],
   "source": [
    "9.Press ctrl-C to stop a program stuck in an infinite loop"
   ]
  },
  {
   "cell_type": "code",
   "execution_count": null,
   "id": "ff33b5ad-5620-4864-bbee-d957f721b180",
   "metadata": {},
   "outputs": [],
   "source": [
    "10.The break statement will move the execution outside and just after a\n",
    "loop. The continue statement will move the execution to the start of\n",
    "the loop."
   ]
  },
  {
   "cell_type": "code",
   "execution_count": null,
   "id": "b55ff327-e40c-4188-a956-1426b8a7479a",
   "metadata": {},
   "outputs": [],
   "source": [
    "11.They all do the same thing. The range(10) call ranges from 0 up to (but\n",
    "not including) 10, range(0, 10) explicitly tells the loop to start at 0, and\n",
    "range(0, 10, 1) explicitly tells the loop to increase the variable by 1 on\n",
    "each iteration."
   ]
  },
  {
   "cell_type": "code",
   "execution_count": 16,
   "id": "50d19179-41ee-4050-91f3-4d56136847d5",
   "metadata": {},
   "outputs": [
    {
     "name": "stdout",
     "output_type": "stream",
     "text": [
      "1\n",
      "2\n",
      "3\n",
      "4\n",
      "5\n",
      "6\n",
      "7\n",
      "8\n",
      "9\n",
      "10\n",
      "1\n",
      "2\n",
      "3\n",
      "4\n",
      "5\n",
      "6\n",
      "7\n",
      "8\n",
      "9\n",
      "10\n"
     ]
    }
   ],
   "source": [
    "#12.\n",
    "for i in range(1, 11):\n",
    " print(i)\n",
    "#\n",
    "i = 1\n",
    "while i <= 10:\n",
    " print(i)\n",
    " i = i + 1"
   ]
  },
  {
   "cell_type": "code",
   "execution_count": null,
   "id": "5c1b6e42-f5f1-4475-8bfb-0daf10965fa0",
   "metadata": {},
   "outputs": [],
   "source": [
    "13.This function can be called with spam.bacon()."
   ]
  }
 ],
 "metadata": {
  "kernelspec": {
   "display_name": "Python 3 (ipykernel)",
   "language": "python",
   "name": "python3"
  },
  "language_info": {
   "codemirror_mode": {
    "name": "ipython",
    "version": 3
   },
   "file_extension": ".py",
   "mimetype": "text/x-python",
   "name": "python",
   "nbconvert_exporter": "python",
   "pygments_lexer": "ipython3",
   "version": "3.10.6"
  }
 },
 "nbformat": 4,
 "nbformat_minor": 5
}
